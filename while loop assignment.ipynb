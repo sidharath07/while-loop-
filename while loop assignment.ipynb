{
 "cells": [
  {
   "cell_type": "code",
   "execution_count": 1,
   "id": "d1f531e0-a741-4739-8627-7f2d14f76360",
   "metadata": {},
   "outputs": [],
   "source": [
    " a = 1"
   ]
  },
  {
   "cell_type": "code",
   "execution_count": 2,
   "id": "35448e56-1a2b-41e7-99ef-78bf3080bd8d",
   "metadata": {},
   "outputs": [
    {
     "data": {
      "text/plain": [
       "1"
      ]
     },
     "execution_count": 2,
     "metadata": {},
     "output_type": "execute_result"
    }
   ],
   "source": [
    "a"
   ]
  },
  {
   "cell_type": "code",
   "execution_count": 4,
   "id": "86558f1e-4aab-45b8-96f4-89e95889e116",
   "metadata": {},
   "outputs": [
    {
     "data": {
      "text/plain": [
       "int"
      ]
     },
     "execution_count": 4,
     "metadata": {},
     "output_type": "execute_result"
    }
   ],
   "source": [
    "type(a)"
   ]
  },
  {
   "cell_type": "code",
   "execution_count": 5,
   "id": "847353cd-5976-4e3f-ba64-aa786901c06f",
   "metadata": {},
   "outputs": [
    {
     "name": "stdout",
     "output_type": "stream",
     "text": [
      "1\n",
      "2\n",
      "3\n",
      "4\n",
      "5\n",
      "6\n",
      "7\n",
      "8\n",
      "9\n",
      "10\n"
     ]
    }
   ],
   "source": [
    "a = 1\n",
    "\n",
    "while a<= 10 :\n",
    "    print(a)\n",
    "    a = a + 1"
   ]
  },
  {
   "cell_type": "code",
   "execution_count": 6,
   "id": "ae7c5a23-f678-43bf-8fce-cc62ccd9136f",
   "metadata": {},
   "outputs": [],
   "source": [
    "# sum up the number till some point "
   ]
  },
  {
   "cell_type": "code",
   "execution_count": 7,
   "id": "df1cdd98-6c34-4aea-a666-4095bd86c33b",
   "metadata": {},
   "outputs": [
    {
     "name": "stdin",
     "output_type": "stream",
     "text": [
      " enter your limit 20\n"
     ]
    },
    {
     "data": {
      "text/plain": [
       "210"
      ]
     },
     "execution_count": 7,
     "metadata": {},
     "output_type": "execute_result"
    }
   ],
   "source": [
    " n = int(input(\" enter your limit\"))\n",
    "starting_point = 0\n",
    "counter = 1\n",
    "\n",
    "\n",
    "while counter <= n :\n",
    "    starting_point = starting_point + counter\n",
    "    counter = counter + 1\n",
    "starting_point    \n"
   ]
  },
  {
   "cell_type": "code",
   "execution_count": 10,
   "id": "6738a618-6533-48ad-96cf-9b7eae96aa7e",
   "metadata": {},
   "outputs": [
    {
     "name": "stdin",
     "output_type": "stream",
     "text": [
      "enter your number 3\n"
     ]
    },
    {
     "data": {
      "text/plain": [
       "6"
      ]
     },
     "execution_count": 10,
     "metadata": {},
     "output_type": "execute_result"
    }
   ],
   "source": [
    "number = int(input(\"enter your number\"))\n",
    "factoriol = 1\n",
    "while number > 0 :\n",
    "    factoriol = factoriol*number\n",
    "    number = number-1\n",
    "factoriol    \n",
    "    \n"
   ]
  },
  {
   "cell_type": "code",
   "execution_count": 1,
   "id": "20684f56-e179-46f7-b388-b3954dcfe6da",
   "metadata": {},
   "outputs": [],
   "source": [
    "# finonacci series"
   ]
  },
  {
   "cell_type": "code",
   "execution_count": 2,
   "id": "475c3132-19ff-40f5-bc11-cc4545555b84",
   "metadata": {},
   "outputs": [
    {
     "name": "stdin",
     "output_type": "stream",
     "text": [
      "enter the number of element you are looking for  10\n"
     ]
    },
    {
     "name": "stdout",
     "output_type": "stream",
     "text": [
      "0\n",
      "1\n",
      "1\n",
      "2\n",
      "3\n",
      "5\n",
      "8\n",
      "13\n",
      "21\n",
      "34\n"
     ]
    }
   ],
   "source": [
    "number = int(input(\"enter the number of element you are looking for \"))\n",
    "a , b = 0 , 1\n",
    "counter = 0\n",
    "while counter < number :\n",
    "    print(a)\n",
    "    c = a + b \n",
    "    a = b \n",
    "    b = c\n",
    "    counter =counter + 1"
   ]
  },
  {
   "cell_type": "code",
   "execution_count": 4,
   "id": "a58b3751-5708-4a47-bac8-76dcb85a5984",
   "metadata": {},
   "outputs": [
    {
     "name": "stdout",
     "output_type": "stream",
     "text": [
      "0\n",
      "1\n",
      "1\n",
      "2\n",
      "3\n",
      "5\n",
      "8\n",
      "13\n",
      "21\n",
      "34\n"
     ]
    }
   ],
   "source": [
    "a , b = 0 , 1\n",
    "for i in range(10) :\n",
    "    print(a)\n",
    "    c = a + b \n",
    "    a = b\n",
    "    b = c\n",
    "    "
   ]
  },
  {
   "cell_type": "code",
   "execution_count": 6,
   "id": "6a57d664-8454-4f41-96e9-0357fd87e2fd",
   "metadata": {},
   "outputs": [],
   "source": [
    "s = \"sidharth\""
   ]
  },
  {
   "cell_type": "code",
   "execution_count": 7,
   "id": "e40e79c2-3e8f-43dc-84c3-f720a61d3844",
   "metadata": {},
   "outputs": [
    {
     "data": {
      "text/plain": [
       "'htrahdis'"
      ]
     },
     "execution_count": 7,
     "metadata": {},
     "output_type": "execute_result"
    }
   ],
   "source": [
    "s[::-1]"
   ]
  },
  {
   "cell_type": "code",
   "execution_count": 9,
   "id": "ec1f19a8-a9d0-463e-9c54-bcd94ce3dd19",
   "metadata": {},
   "outputs": [
    {
     "name": "stdout",
     "output_type": "stream",
     "text": [
      "htahdis\n"
     ]
    }
   ],
   "source": [
    "reverse = \"\"\n",
    "lenght = len(word)\n",
    "while lenght > 0 :\n",
    "    reverse = reverse + word[lenght-1]\n",
    "    lenght = lenght-1\n",
    "print(reverse)    "
   ]
  },
  {
   "cell_type": "code",
   "execution_count": 10,
   "id": "b9ea5d2b-945e-40b1-a424-f287f5a89d54",
   "metadata": {},
   "outputs": [],
   "source": [
    "# print tables of numbers"
   ]
  },
  {
   "cell_type": "code",
   "execution_count": 1,
   "id": "5a20ef14-ad19-4298-b0aa-e9ad56b9e287",
   "metadata": {},
   "outputs": [
    {
     "name": "stdin",
     "output_type": "stream",
     "text": [
      "enter your number 2\n"
     ]
    },
    {
     "name": "stdout",
     "output_type": "stream",
     "text": [
      "2 * 1 = 2\n",
      "2 * 2 = 4\n",
      "2 * 3 = 6\n",
      "2 * 4 = 8\n",
      "2 * 5 = 10\n",
      "2 * 6 = 12\n",
      "2 * 7 = 14\n",
      "2 * 8 = 16\n",
      "2 * 9 = 18\n"
     ]
    }
   ],
   "source": [
    "n = int(input(\"enter your number\"))\n",
    "i = 1\n",
    "while i < 10 :\n",
    "    result = n * i\n",
    "    print(n , \"*\", i , \"=\",result)\n",
    "    i = i+1"
   ]
  },
  {
   "cell_type": "code",
   "execution_count": 2,
   "id": "46fddc74-aedd-44e2-9119-38a708b09956",
   "metadata": {},
   "outputs": [
    {
     "name": "stdout",
     "output_type": "stream",
     "text": [
      "1\n",
      "2\n",
      "3\n",
      "4\n",
      "this will be executed once your while will complete it succesfully\n"
     ]
    }
   ],
   "source": [
    "n = 5\n",
    "i = 1\n",
    "while i < n :\n",
    "    print(i)\n",
    "    i = i + 1\n",
    "else :\n",
    "    print(\"this will be executed once your while will complete it succesfully\")\n"
   ]
  },
  {
   "cell_type": "code",
   "execution_count": 3,
   "id": "925a0510-6125-4b66-b10f-8e41d0998135",
   "metadata": {},
   "outputs": [
    {
     "name": "stdout",
     "output_type": "stream",
     "text": [
      "1\n",
      "2\n",
      "3\n"
     ]
    }
   ],
   "source": [
    "n = 5\n",
    "i = 1\n",
    "while i < n :\n",
    "    print(i)\n",
    "    if i == 3 :\n",
    "        break\n",
    "    i = i + 1\n",
    "else :\n",
    "    print(\"this will be executed once your while will complete it succesfully\")\n"
   ]
  },
  {
   "cell_type": "code",
   "execution_count": null,
   "id": "23a139a0-a020-4cb9-b09f-975352509c45",
   "metadata": {},
   "outputs": [],
   "source": []
  }
 ],
 "metadata": {
  "kernelspec": {
   "display_name": "Python 3 (ipykernel)",
   "language": "python",
   "name": "python3"
  },
  "language_info": {
   "codemirror_mode": {
    "name": "ipython",
    "version": 3
   },
   "file_extension": ".py",
   "mimetype": "text/x-python",
   "name": "python",
   "nbconvert_exporter": "python",
   "pygments_lexer": "ipython3",
   "version": "3.10.8"
  }
 },
 "nbformat": 4,
 "nbformat_minor": 5
}
